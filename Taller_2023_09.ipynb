{
  "nbformat": 4,
  "nbformat_minor": 0,
  "metadata": {
    "colab": {
      "provenance": []
    },
    "kernelspec": {
      "name": "python3",
      "display_name": "Python 3"
    },
    "language_info": {
      "name": "python"
    }
  },
  "cells": [
    {
      "cell_type": "code",
      "execution_count": null,
      "metadata": {
        "colab": {
          "base_uri": "https://localhost:8080/",
          "height": 98
        },
        "id": "92OQXts1Bac3",
        "outputId": "ce33377e-b0bc-45a4-bf04-ed08bd596e99"
      },
      "outputs": [
        {
          "output_type": "execute_result",
          "data": {
            "text/plain": [
              "Matrix([\n",
              "[0,  3,  -6],\n",
              "[3,  3, -10],\n",
              "[4, -9,  34],\n",
              "[2, -5,  20]])"
            ],
            "text/latex": "$\\displaystyle \\left[\\begin{matrix}0 & 3 & -6\\\\3 & 3 & -10\\\\4 & -9 & 34\\\\2 & -5 & 20\\end{matrix}\\right]$"
          },
          "metadata": {},
          "execution_count": 19
        }
      ],
      "source": [
        "import sympy as sp\n",
        "A = sp.Matrix([[0,3,-6],[3,3,-10],[4,-9,34],[2,-5,20]])\n",
        "A"
      ]
    },
    {
      "cell_type": "code",
      "source": [
        "M=A[[1,0,2,3],:]\n",
        "M"
      ],
      "metadata": {
        "colab": {
          "base_uri": "https://localhost:8080/",
          "height": 98
        },
        "id": "UnwnJMsRCVVL",
        "outputId": "7dcde01b-2887-4348-e0af-e73f53f7fca3"
      },
      "execution_count": null,
      "outputs": [
        {
          "output_type": "execute_result",
          "data": {
            "text/plain": [
              "Matrix([\n",
              "[3,  3, -10],\n",
              "[0,  3,  -6],\n",
              "[4, -9,  34],\n",
              "[2, -5,  20]])"
            ],
            "text/latex": "$\\displaystyle \\left[\\begin{matrix}3 & 3 & -10\\\\0 & 3 & -6\\\\4 & -9 & 34\\\\2 & -5 & 20\\end{matrix}\\right]$"
          },
          "metadata": {},
          "execution_count": 38
        }
      ]
    },
    {
      "cell_type": "code",
      "source": [],
      "metadata": {
        "id": "tRYq3lkcDxKB"
      },
      "execution_count": null,
      "outputs": []
    },
    {
      "cell_type": "code",
      "source": [
        "A.row_swap(0,3)\n",
        "A"
      ],
      "metadata": {
        "colab": {
          "base_uri": "https://localhost:8080/",
          "height": 98
        },
        "id": "wkZRZ1EGEqOR",
        "outputId": "8a3d03cb-2469-4a83-f841-3bf40be6e76a"
      },
      "execution_count": null,
      "outputs": [
        {
          "output_type": "execute_result",
          "data": {
            "text/plain": [
              "Matrix([\n",
              "[2, -5,  20],\n",
              "[3,  3, -10],\n",
              "[4, -9,  34],\n",
              "[0,  3,  -6]])"
            ],
            "text/latex": "$\\displaystyle \\left[\\begin{matrix}2 & -5 & 20\\\\3 & 3 & -10\\\\4 & -9 & 34\\\\0 & 3 & -6\\end{matrix}\\right]$"
          },
          "metadata": {},
          "execution_count": 39
        }
      ]
    },
    {
      "cell_type": "code",
      "source": [
        "A[0,2]"
      ],
      "metadata": {
        "colab": {
          "base_uri": "https://localhost:8080/",
          "height": 37
        },
        "id": "bDqW6gddIang",
        "outputId": "bfb7604e-b41c-49ed-8120-a21fe9fd33ba"
      },
      "execution_count": null,
      "outputs": [
        {
          "output_type": "execute_result",
          "data": {
            "text/plain": [
              "20"
            ],
            "text/latex": "$\\displaystyle 20$"
          },
          "metadata": {},
          "execution_count": 14
        }
      ]
    },
    {
      "cell_type": "code",
      "source": [
        "M"
      ],
      "metadata": {
        "colab": {
          "base_uri": "https://localhost:8080/",
          "height": 98
        },
        "id": "H0uvOkfIROW8",
        "outputId": "d6086809-f572-46ca-c77e-055356d9053e"
      },
      "execution_count": null,
      "outputs": [
        {
          "output_type": "execute_result",
          "data": {
            "text/plain": [
              "Matrix([\n",
              "[3,  3, -10],\n",
              "[0,  3,  -6],\n",
              "[4, -9,  34],\n",
              "[2, -5,  20]])"
            ],
            "text/latex": "$\\displaystyle \\left[\\begin{matrix}3 & 3 & -10\\\\0 & 3 & -6\\\\4 & -9 & 34\\\\2 & -5 & 20\\end{matrix}\\right]$"
          },
          "metadata": {},
          "execution_count": 29
        }
      ]
    },
    {
      "cell_type": "code",
      "source": [
        "def elim(M):\n",
        "  primer_elem=M[0,0]\n",
        "  if primer_elem==0:\n",
        "    for i in range(1, M.shape[0]):\n",
        "            if M[i, 0] != 0:\n",
        "                M[[0, i]] = M[[i, 0]]\n",
        "                break\n",
        "    pass\n",
        "  segundo_elem=M[1,0]\n",
        "  M[1,:]= M[1,:]*primer_elem - M[0,:]*segundo_elem\n",
        "  tercer_elem=M[2,0]\n",
        "  M[2,0]= M[1,:]*primer_elem - M[0,:]*segundo_elem\n",
        "  cuarto_elem = M[1,:]*primer_elem - M[0,:]*segundo_elem\n",
        "  return M\n",
        "elim(M)"
      ],
      "metadata": {
        "colab": {
          "base_uri": "https://localhost:8080/",
          "height": 98
        },
        "id": "zVr7y8jeFjgn",
        "outputId": "e99b07b7-818e-4ace-fa6b-99ec6751dd9f"
      },
      "execution_count": null,
      "outputs": [
        {
          "output_type": "execute_result",
          "data": {
            "text/plain": [
              "Matrix([\n",
              "[3,   3,  -10],\n",
              "[0,  81, -162],\n",
              "[0, 243, -486],\n",
              "[2,  -5,   20]])"
            ],
            "text/latex": "$\\displaystyle \\left[\\begin{matrix}3 & 3 & -10\\\\0 & 81 & -162\\\\0 & 243 & -486\\\\2 & -5 & 20\\end{matrix}\\right]$"
          },
          "metadata": {},
          "execution_count": 42
        }
      ]
    },
    {
      "cell_type": "code",
      "source": [],
      "metadata": {
        "id": "XEv_gQI9RFQF"
      },
      "execution_count": null,
      "outputs": []
    },
    {
      "cell_type": "code",
      "source": [
        "\n",
        "#M=A[:,:]\n",
        "#M[1,:]= M[0,:]*1/2*3-M[1,:]\n",
        "#M"
      ],
      "metadata": {
        "colab": {
          "base_uri": "https://localhost:8080/",
          "height": 98
        },
        "id": "4RZtuG9cI34Z",
        "outputId": "7fe19b51-5bad-4c78-c6dc-a81d0dea1aa6"
      },
      "execution_count": null,
      "outputs": [
        {
          "output_type": "execute_result",
          "data": {
            "text/plain": [
              "Matrix([\n",
              "[ 0,   3, -6],\n",
              "[-3, 3/2,  1],\n",
              "[ 4,  -9, 34],\n",
              "[ 2,  -5, 20]])"
            ],
            "text/latex": "$\\displaystyle \\left[\\begin{matrix}0 & 3 & -6\\\\-3 & \\frac{3}{2} & 1\\\\4 & -9 & 34\\\\2 & -5 & 20\\end{matrix}\\right]$"
          },
          "metadata": {},
          "execution_count": 20
        }
      ]
    }
  ]
}