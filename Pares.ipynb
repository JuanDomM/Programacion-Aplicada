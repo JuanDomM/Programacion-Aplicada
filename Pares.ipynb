{
  "nbformat": 4,
  "nbformat_minor": 0,
  "metadata": {
    "colab": {
      "provenance": []
    },
    "kernelspec": {
      "name": "python3",
      "display_name": "Python 3"
    },
    "language_info": {
      "name": "python"
    }
  },
  "cells": [
    {
      "cell_type": "code",
      "execution_count": 1,
      "metadata": {
        "colab": {
          "base_uri": "https://localhost:8080/"
        },
        "id": "aLniF03nyWLi",
        "outputId": "908582a1-ee7a-4c36-93bf-9b686c23200b"
      },
      "outputs": [
        {
          "output_type": "execute_result",
          "data": {
            "text/plain": [
              "[2, 4, 6, 8]"
            ]
          },
          "metadata": {},
          "execution_count": 1
        }
      ],
      "source": [
        "A=[1,2,3,4,5,6,7,8]\n",
        "\n",
        "def par (x):\n",
        "  return x%2==0\n",
        "\n",
        "def pares (lista):\n",
        "  pares=list(filter(par,lista))\n",
        "  return pares\n",
        "pares(A)"
      ]
    }
  ]
}