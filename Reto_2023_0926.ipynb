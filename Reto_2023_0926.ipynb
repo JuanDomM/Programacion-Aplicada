{
  "nbformat": 4,
  "nbformat_minor": 0,
  "metadata": {
    "colab": {
      "provenance": []
    },
    "kernelspec": {
      "name": "python3",
      "display_name": "Python 3"
    },
    "language_info": {
      "name": "python"
    }
  },
  "cells": [
    {
      "cell_type": "code",
      "execution_count": 45,
      "metadata": {
        "colab": {
          "base_uri": "https://localhost:8080/"
        },
        "id": "SYYwnGKzD1PL",
        "outputId": "ca82549f-75f6-415e-b69e-314afaf10182"
      },
      "outputs": [
        {
          "output_type": "stream",
          "name": "stdout",
          "text": [
            "array('f', [3.0, 7.0, 4.0, 7.0])\n"
          ]
        }
      ],
      "source": [
        "#A1\n",
        "import array\n",
        "a1= [1,2,3,4]\n",
        "a2= [2,5,1,3]\n",
        "A1= array.array(\"f\",a1)\n",
        "A2= array.array(\"f\",a2)\n",
        "if len(A1) == len(A2):\n",
        "  res=array.array(\"f\",[])\n",
        "  for i in range (len(A1)):\n",
        "     res.append(A1[i]+A2[i])\n",
        "  print(res)\n",
        "else:\n",
        "    print(\"los arreglos no son de la misma longitud\")\n"
      ]
    },
    {
      "cell_type": "code",
      "source": [
        "#A2\n",
        "a_a1=array.array(\"f\",A1+A2)\n",
        "print(\"arreglo1:\",a_a1)\n",
        "a_a2=array.array(\"f\",A2+A1)\n",
        "print(\"arreglo2:\",a_a2)\n",
        "if len(a_a1) == len(a_a2):\n",
        "  res=array.array(\"f\",[])\n",
        "  for i in range (len(a_a1)):\n",
        "     res.append(a_a1[i]+a_a2[i])\n",
        "  print(res)\n",
        "else:\n",
        "    print(\"los arreglos no son de la misma longitud\")"
      ],
      "metadata": {
        "colab": {
          "base_uri": "https://localhost:8080/"
        },
        "id": "zr-0lWezQvlN",
        "outputId": "93cb815c-d693-4542-b035-49a09c290bc3"
      },
      "execution_count": 51,
      "outputs": [
        {
          "output_type": "stream",
          "name": "stdout",
          "text": [
            "arreglo1: array('f', [1.0, 2.0, 3.0, 4.0, 2.0, 5.0, 1.0, 3.0])\n",
            "arreglo2: array('f', [2.0, 5.0, 1.0, 3.0, 1.0, 2.0, 3.0, 4.0])\n",
            "array('f', [3.0, 7.0, 4.0, 7.0, 3.0, 7.0, 4.0, 7.0])\n"
          ]
        }
      ]
    },
    {
      "cell_type": "code",
      "source": [
        "#A3\n",
        "\n",
        "if len(A1) == len(A2):\n",
        "  res=array.array(\"f\",[])\n",
        "  for i in range (len(A1)):\n",
        "     res.append(A1[i]+5)\n",
        "  print(res)\n",
        "else:\n",
        "    print(\"los arreglos no son de la misma longitud\")\n",
        "\n"
      ],
      "metadata": {
        "colab": {
          "base_uri": "https://localhost:8080/"
        },
        "id": "Wu8DAmppWEjs",
        "outputId": "ae4448d0-2adb-4708-c2dc-28ca0146d54e"
      },
      "execution_count": 52,
      "outputs": [
        {
          "output_type": "stream",
          "name": "stdout",
          "text": [
            "array('f', [6.0, 7.0, 8.0, 9.0])\n"
          ]
        }
      ]
    },
    {
      "cell_type": "code",
      "source": [
        "#A4\n",
        "if len(a_a1) == len(a_a2):\n",
        "  res=array.array(\"f\",[])\n",
        "  for i in range (len(a_a1)):\n",
        "     res.append(5+(a_a1[i]+a_a2[i]))\n",
        "  print(res)\n",
        "else:\n",
        "    print(\"los arreglos no son de la misma longitud\")"
      ],
      "metadata": {
        "colab": {
          "base_uri": "https://localhost:8080/"
        },
        "id": "QIQBi0awYNhG",
        "outputId": "5b893143-2a8e-41d7-d179-71178cd951f2"
      },
      "execution_count": 53,
      "outputs": [
        {
          "output_type": "stream",
          "name": "stdout",
          "text": [
            "array('f', [8.0, 12.0, 9.0, 12.0, 8.0, 12.0, 9.0, 12.0])\n"
          ]
        }
      ]
    },
    {
      "cell_type": "code",
      "source": [
        "#B2\n",
        "res=array.array(\"f\",[])\n",
        "for i in range (len(A1)):\n",
        "     res.append(A1[i]*5)\n",
        "     print(res)\n"
      ],
      "metadata": {
        "colab": {
          "base_uri": "https://localhost:8080/"
        },
        "id": "Nw96UYPyYbz-",
        "outputId": "3dbf8a5c-8364-416a-fe7c-95d695ba4028"
      },
      "execution_count": 58,
      "outputs": [
        {
          "output_type": "stream",
          "name": "stdout",
          "text": [
            "array('f', [5.0])\n",
            "array('f', [5.0, 10.0])\n",
            "array('f', [5.0, 10.0, 15.0])\n",
            "array('f', [5.0, 10.0, 15.0, 20.0])\n"
          ]
        }
      ]
    },
    {
      "cell_type": "code",
      "source": [
        "#B3\n"
      ],
      "metadata": {
        "id": "QxVWEPQ8Zp0q"
      },
      "execution_count": null,
      "outputs": []
    },
    {
      "cell_type": "code",
      "source": [
        "#C2"
      ],
      "metadata": {
        "id": "g-lw158eZsC6"
      },
      "execution_count": null,
      "outputs": []
    }
  ]
}