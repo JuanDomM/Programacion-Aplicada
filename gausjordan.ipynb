{
  "nbformat": 4,
  "nbformat_minor": 0,
  "metadata": {
    "colab": {
      "provenance": []
    },
    "kernelspec": {
      "name": "python3",
      "display_name": "Python 3"
    },
    "language_info": {
      "name": "python"
    }
  },
  "cells": [
    {
      "cell_type": "code",
      "execution_count": null,
      "metadata": {
        "colab": {
          "base_uri": "https://localhost:8080/",
          "height": 99
        },
        "id": "gzzJFVlfrCU8",
        "outputId": "a096f22f-cdd4-463b-8bb2-0dfeb0d01c5b"
      },
      "outputs": [
        {
          "output_type": "execute_result",
          "data": {
            "text/plain": [
              "Matrix([\n",
              "[1, 2,   3],\n",
              "[0, 1, 1/3],\n",
              "[0, 0,   1],\n",
              "[0, 0,   0]])"
            ],
            "text/latex": "$\\displaystyle \\left[\\begin{matrix}1 & 2 & 3\\\\0 & 1 & \\frac{1}{3}\\\\0 & 0 & 1\\\\0 & 0 & 0\\end{matrix}\\right]$"
          },
          "metadata": {},
          "execution_count": 6
        }
      ],
      "source": [
        "import sympy as sp\n",
        "\n",
        "A=sp.Matrix([\n",
        "    [1,2,3],\n",
        "    [0,6,2],\n",
        "    [5,5,0],\n",
        "    [0,3,9],\n",
        "\n",
        "])\n",
        "M=A[:,:]\n",
        "M\n",
        "\n",
        "\n",
        "def formaescalon(M):\n",
        "    nfilas = M.shape[0]\n",
        "    ncolumnas = M.shape[1]\n",
        "\n",
        "    if nfilas > ncolumnas:\n",
        "        for elemento_actual in range(0, ncolumnas):\n",
        "            if M[elemento_actual, elemento_actual] == 0:\n",
        "                for fila_posible in range(elemento_actual + 1, nfilas):\n",
        "                    if M[fila_posible, elemento_actual] != 0:\n",
        "                        M.row_swap(elemento_actual, fila_posible)\n",
        "                        break\n",
        "            M[elemento_actual, :] = M[elemento_actual, :] * (1 / M[elemento_actual, elemento_actual])\n",
        "            for fila_actual in range(elemento_actual + 1, nfilas):\n",
        "                M[fila_actual, :] = M[fila_actual, :] - M[elemento_actual, :] * M[fila_actual, elemento_actual]\n",
        "\n",
        "    if ncolumnas<nfilas:\n",
        "\n",
        "      for columna_actual in range(0, ncolumnas):\n",
        "          if M[columna_actual, columna_actual] == 0:\n",
        "              for columna_posible in range(columna_actual + 1, ncolumnas):\n",
        "                  if M[columna_posible, columna_actual] != 0:\n",
        "                      M.column_swap(columna_actual, columna_posible)\n",
        "                      break\n",
        "          M[:, columna_actual] = M[:, columna_actual] * (1 / M[columna_actual, columna_actual])\n",
        "          for fila_actual in range(columna_actual + 1, nfilas):\n",
        "              M[fila_actual, :] = M[fila_actual, :] - M[fila_actual, columna_actual] * M[columna_actual, :]\n",
        "\n",
        "    return M\n",
        "\n",
        "escalon_M = formaescalon(M)\n",
        "escalon_M"
      ]
    }
  ]
}